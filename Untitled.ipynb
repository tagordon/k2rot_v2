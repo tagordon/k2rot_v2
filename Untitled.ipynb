{
 "cells": [
  {
   "cell_type": "code",
   "execution_count": 1,
   "metadata": {},
   "outputs": [],
   "source": [
    "import pandas as pd\n",
    "import numpy as np\n",
    "import matplotlib.pyplot as pl"
   ]
  },
  {
   "cell_type": "code",
   "execution_count": 2,
   "metadata": {},
   "outputs": [],
   "source": [
    "df = pd.read_hdf('kep_tess.h5')"
   ]
  },
  {
   "cell_type": "code",
   "execution_count": 24,
   "metadata": {},
   "outputs": [],
   "source": [
    "good = (df['P_mean'] / df['P_sd']) > 10"
   ]
  },
  {
   "cell_type": "code",
   "execution_count": 26,
   "metadata": {},
   "outputs": [
    {
     "name": "stderr",
     "output_type": "stream",
     "text": [
      "/usr/local/lib/python3.7/site-packages/ipykernel_launcher.py:2: UserWarning: Boolean Series key will be reindexed to match DataFrame index.\n",
      "  \n"
     ]
    },
    {
     "data": {
      "image/png": "[encoded data removed]",
      "text/plain": [
       "<Figure size 432x288 with 1 Axes>"
      ]
     },
     "metadata": {},
     "output_type": "display_data"
    }
   ],
   "source": [
    "pl.hist(df[good]['yerr_mean']);\n",
    "pl.hist(df[good][df['P_mean'] < 1]['yerr_mean']);"
   ]
  },
  {
   "cell_type": "code",
   "execution_count": 45,
   "metadata": {},
   "outputs": [],
   "source": [
    "newcols = list(np.array([[col[12*i+j] for i in range(9)] for j in range(12)]).flatten())\n",
    "#newcols.append('epic')\n",
    "#newcols.append('campaign')"
   ]
  },
  {
   "cell_type": "code",
   "execution_count": 47,
   "metadata": {},
   "outputs": [
    {
     "data": {
      "text/plain": [
       "['mean_mean',\n",
       " 'mean_sd',\n",
       " 'mean_hpd_3%',\n",
       " 'mean_hpd_97%',\n",
       " 'mean_mcse_mean',\n",
       " 'mean_mcse_sd',\n",
       " 'mean_ess_mean',\n",
       " 'mean_ess_sd',\n",
       " 'mean_ess_bulk',\n",
       " 'mean_ess_tail',\n",
       " 'mean_r_hat',\n",
       " 'mean_mode',\n",
       " 'yerr_mean',\n",
       " 'yerr_sd',\n",
       " 'yerr_hpd_3%',\n",
       " 'yerr_hpd_97%',\n",
       " 'yerr_mcse_mean',\n",
       " 'yerr_mcse_sd',\n",
       " 'yerr_ess_mean',\n",
       " 'yerr_ess_sd',\n",
       " 'yerr_ess_bulk',\n",
       " 'yerr_ess_tail',\n",
       " 'yerr_r_hat',\n",
       " 'yerr_mode',\n",
       " 'logamp_mean',\n",
       " 'logamp_sd',\n",
       " 'logamp_hpd_3%',\n",
       " 'logamp_hpd_97%',\n",
       " 'logamp_mcse_mean',\n",
       " 'logamp_mcse_sd',\n",
       " 'logamp_ess_mean',\n",
       " 'logamp_ess_sd',\n",
       " 'logamp_ess_bulk',\n",
       " 'logamp_ess_tail',\n",
       " 'logamp_r_hat',\n",
       " 'logamp_mode',\n",
       " 'P_mean',\n",
       " 'P_sd',\n",
       " 'P_hpd_3%',\n",
       " 'P_hpd_97%',\n",
       " 'P_mcse_mean',\n",
       " 'P_mcse_sd',\n",
       " 'P_ess_mean',\n",
       " 'P_ess_sd',\n",
       " 'P_ess_bulk',\n",
       " 'P_ess_tail',\n",
       " 'P_r_hat',\n",
       " 'P_mode',\n",
       " 'logdQ_mean',\n",
       " 'logdQ_sd',\n",
       " 'logdQ_hpd_3%',\n",
       " 'logdQ_hpd_97%',\n",
       " 'logdQ_mcse_mean',\n",
       " 'logdQ_mcse_sd',\n",
       " 'logdQ_ess_mean',\n",
       " 'logdQ_ess_sd',\n",
       " 'logdQ_ess_bulk',\n",
       " 'logdQ_ess_tail',\n",
       " 'logdQ_r_hat',\n",
       " 'logdQ_mode',\n",
       " 'logS0_mean',\n",
       " 'logS0_sd',\n",
       " 'logS0_hpd_3%',\n",
       " 'logS0_hpd_97%',\n",
       " 'logS0_mcse_mean',\n",
       " 'logS0_mcse_sd',\n",
       " 'logS0_ess_mean',\n",
       " 'logS0_ess_sd',\n",
       " 'logS0_ess_bulk',\n",
       " 'logS0_ess_tail',\n",
       " 'logS0_r_hat',\n",
       " 'logS0_mode',\n",
       " 'logQ0_mean',\n",
       " 'logQ0_sd',\n",
       " 'logQ0_hpd_3%',\n",
       " 'logQ0_hpd_97%',\n",
       " 'logQ0_mcse_mean',\n",
       " 'logQ0_mcse_sd',\n",
       " 'logQ0_ess_mean',\n",
       " 'logQ0_ess_sd',\n",
       " 'logQ0_ess_bulk',\n",
       " 'logQ0_ess_tail',\n",
       " 'logQ0_r_hat',\n",
       " 'logQ0_mode',\n",
       " 'mix_mean',\n",
       " 'mix_sd',\n",
       " 'mix_hpd_3%',\n",
       " 'mix_hpd_97%',\n",
       " 'mix_mcse_mean',\n",
       " 'mix_mcse_sd',\n",
       " 'mix_ess_mean',\n",
       " 'mix_ess_sd',\n",
       " 'mix_ess_bulk',\n",
       " 'mix_ess_tail',\n",
       " 'mix_r_hat',\n",
       " 'mix_mode',\n",
       " 'logw_mean',\n",
       " 'logw_sd',\n",
       " 'logw_hpd_3%',\n",
       " 'logw_hpd_97%',\n",
       " 'logw_mcse_mean',\n",
       " 'logw_mcse_sd',\n",
       " 'logw_ess_mean',\n",
       " 'logw_ess_sd',\n",
       " 'logw_ess_bulk',\n",
       " 'logw_ess_tail',\n",
       " 'logw_r_hat',\n",
       " 'logw_mode',\n",
       " 'epic',\n",
       " 'campaign']"
      ]
     },
     "execution_count": 47,
     "metadata": {},
     "output_type": "execute_result"
    }
   ],
   "source": []
  },
  {
   "cell_type": "code",
   "execution_count": 38,
   "metadata": {},
   "outputs": [],
   "source": [
    "df.columns = newcols"
   ]
  },
  {
   "cell_type": "code",
   "execution_count": 44,
   "metadata": {},
   "outputs": [
    {
     "data": {
      "text/html": [
       "<div>\n",
       "<style scoped>\n",
       "    .dataframe tbody tr th:only-of-type {\n",
       "        vertical-align: middle;\n",
       "    }\n",
       "\n",
       "    .dataframe tbody tr th {\n",
       "        vertical-align: top;\n",
       "    }\n",
       "\n",
       "    .dataframe thead th {\n",
       "        text-align: right;\n",
       "    }\n",
       "</style>\n",
       "<table border=\"1\" class=\"dataframe\">\n",
       "  <thead>\n",
       "    <tr style=\"text-align: right;\">\n",
       "      <th></th>\n",
       "      <th>mean_mean</th>\n",
       "      <th>yerr_mean</th>\n",
       "      <th>logamp_mean</th>\n",
       "      <th>P_mean</th>\n",
       "      <th>logdQ_mean</th>\n",
       "      <th>logS0_mean</th>\n",
       "      <th>logQ0_mean</th>\n",
       "      <th>mix_mean</th>\n",
       "      <th>logw_mean</th>\n",
       "      <th>mean_sd</th>\n",
       "      <th>...</th>\n",
       "      <th>yerr_mode</th>\n",
       "      <th>logamp_mode</th>\n",
       "      <th>P_mode</th>\n",
       "      <th>logdQ_mode</th>\n",
       "      <th>logS0_mode</th>\n",
       "      <th>logQ0_mode</th>\n",
       "      <th>mix_mode</th>\n",
       "      <th>logw_mode</th>\n",
       "      <th>epic</th>\n",
       "      <th>campaign</th>\n",
       "    </tr>\n",
       "  </thead>\n",
       "  <tbody>\n",
       "    <tr>\n",
       "      <td>12</td>\n",
       "      <td>-0.306</td>\n",
       "      <td>4.401</td>\n",
       "      <td>-6.160</td>\n",
       "      <td>5.542</td>\n",
       "      <td>0.260</td>\n",
       "      <td>0.237</td>\n",
       "      <td>287.0</td>\n",
       "      <td>173.0</td>\n",
       "      <td>3173.0</td>\n",
       "      <td>941.0</td>\n",
       "      <td>...</td>\n",
       "      <td>0.334</td>\n",
       "      <td>0.236</td>\n",
       "      <td>268.0</td>\n",
       "      <td>268.0</td>\n",
       "      <td>209.0</td>\n",
       "      <td>55.0</td>\n",
       "      <td>1.08</td>\n",
       "      <td>-0.200</td>\n",
       "      <td>27843903</td>\n",
       "      <td>14</td>\n",
       "    </tr>\n",
       "    <tr>\n",
       "      <td>280</td>\n",
       "      <td>-0.010</td>\n",
       "      <td>2.294</td>\n",
       "      <td>-4.224</td>\n",
       "      <td>4.447</td>\n",
       "      <td>0.017</td>\n",
       "      <td>0.017</td>\n",
       "      <td>17328.0</td>\n",
       "      <td>9104.0</td>\n",
       "      <td>18793.0</td>\n",
       "      <td>14073.0</td>\n",
       "      <td>...</td>\n",
       "      <td>0.001</td>\n",
       "      <td>0.001</td>\n",
       "      <td>14964.0</td>\n",
       "      <td>13954.0</td>\n",
       "      <td>12712.0</td>\n",
       "      <td>10482.0</td>\n",
       "      <td>1.00</td>\n",
       "      <td>-0.013</td>\n",
       "      <td>27843903</td>\n",
       "      <td>15</td>\n",
       "    </tr>\n",
       "  </tbody>\n",
       "</table>\n",
       "<p>2 rows × 110 columns</p>\n",
       "</div>"
      ],
      "text/plain": [
       "     mean_mean  yerr_mean  logamp_mean  P_mean  logdQ_mean  logS0_mean  \\\n",
       "12      -0.306      4.401       -6.160   5.542       0.260       0.237   \n",
       "280     -0.010      2.294       -4.224   4.447       0.017       0.017   \n",
       "\n",
       "     logQ0_mean  mix_mean  logw_mean  mean_sd  ...  yerr_mode  logamp_mode  \\\n",
       "12        287.0     173.0     3173.0    941.0  ...      0.334        0.236   \n",
       "280     17328.0    9104.0    18793.0  14073.0  ...      0.001        0.001   \n",
       "\n",
       "      P_mode  logdQ_mode  logS0_mode  logQ0_mode  mix_mode  logw_mode  \\\n",
       "12     268.0       268.0       209.0        55.0      1.08     -0.200   \n",
       "280  14964.0     13954.0     12712.0     10482.0      1.00     -0.013   \n",
       "\n",
       "         epic  campaign  \n",
       "12   27843903        14  \n",
       "280  27843903        15  \n",
       "\n",
       "[2 rows x 110 columns]"
      ]
     },
     "execution_count": 44,
     "metadata": {},
     "output_type": "execute_result"
    }
   ],
   "source": [
    "df[df['epic'] == 27843903]"
   ]
  },
  {
   "cell_type": "code",
   "execution_count": null,
   "metadata": {},
   "outputs": [],
   "source": []
  }
 ],
 "metadata": {
  "kernelspec": {
   "display_name": "Python 3",
   "language": "python",
   "name": "python3"
  },
  "language_info": {
   "codemirror_mode": {
    "name": "ipython",
    "version": 3
   },
   "file_extension": ".py",
   "mimetype": "text/x-python",
   "name": "python",
   "nbconvert_exporter": "python",
   "pygments_lexer": "ipython3",
   "version": "3.8.6"
  }
 },
 "nbformat": 4,
 "nbformat_minor": 4
}
